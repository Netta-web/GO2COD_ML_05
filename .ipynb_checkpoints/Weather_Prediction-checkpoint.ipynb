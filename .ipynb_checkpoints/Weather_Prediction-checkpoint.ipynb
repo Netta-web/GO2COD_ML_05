{
 "cells": [
  {
   "cell_type": "code",
   "execution_count": null,
   "id": "a58bc5a8-aa44-4c68-a1fd-da4882ef5ae8",
   "metadata": {},
   "outputs": [],
   "source": []
  }
 ],
 "metadata": {
  "kernelspec": {
   "display_name": "Python 3 (ipykernel)",
   "language": "python",
   "name": "python3"
  },
  "language_info": {
   "codemirror_mode": {
    "name": "ipython",
    "version": 3
   },
   "file_extension": ".py",
   "mimetype": "text/x-python",
   "name": "python",
   "nbconvert_exporter": "python",
   "pygments_lexer": "ipython3",
   "version": "3.11.7"
  }
 },
 "nbformat": 4,
 "nbformat_minor": 5
}
