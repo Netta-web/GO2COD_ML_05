{
 "cells": [
  {
   "cell_type": "code",
   "execution_count": 402,
   "id": "a58bc5a8-aa44-4c68-a1fd-da4882ef5ae8",
   "metadata": {},
   "outputs": [],
   "source": [
    "import pandas as pd\n",
    "from sklearn.model_selection import train_test_split\n",
    "from sklearn.linear_model import LinearRegression\n",
    "from sklearn.metrics import mean_absolute_error, mean_squared_error, r2_score"
   ]
  },
  {
   "cell_type": "code",
   "execution_count": 404,
   "id": "ba71825e-bce1-4f35-8268-6c41946e6df5",
   "metadata": {},
   "outputs": [],
   "source": [
    "weather_ds = pd.read_csv(\"C:\\\\Users\\\\user\\\\Documents\\\\Weather_Prediction\\\\dataset\\\\weather.csv\", index_col=\"date\", parse_dates=True)"
   ]
  },
  {
   "cell_type": "code",
   "execution_count": 406,
   "id": "afe1f166-a5e3-4994-aa00-f924e71f14c4",
   "metadata": {},
   "outputs": [
    {
     "data": {
      "text/html": [
       "<div>\n",
       "<style scoped>\n",
       "    .dataframe tbody tr th:only-of-type {\n",
       "        vertical-align: middle;\n",
       "    }\n",
       "\n",
       "    .dataframe tbody tr th {\n",
       "        vertical-align: top;\n",
       "    }\n",
       "\n",
       "    .dataframe thead th {\n",
       "        text-align: right;\n",
       "    }\n",
       "</style>\n",
       "<table border=\"1\" class=\"dataframe\">\n",
       "  <thead>\n",
       "    <tr style=\"text-align: right;\">\n",
       "      <th></th>\n",
       "      <th>p (mbar)</th>\n",
       "      <th>T (degC)</th>\n",
       "      <th>Tpot (K)</th>\n",
       "      <th>Tdew (degC)</th>\n",
       "      <th>rh (%)</th>\n",
       "      <th>VPmax (mbar)</th>\n",
       "      <th>VPact (mbar)</th>\n",
       "      <th>VPdef (mbar)</th>\n",
       "      <th>sh (g/kg)</th>\n",
       "      <th>H2OC (mmol/mol)</th>\n",
       "      <th>...</th>\n",
       "      <th>wv (m/s)</th>\n",
       "      <th>max. wv (m/s)</th>\n",
       "      <th>wd (deg)</th>\n",
       "      <th>rain (mm)</th>\n",
       "      <th>raining (s)</th>\n",
       "      <th>SWDR (W/m�)</th>\n",
       "      <th>PAR (�mol/m�/s)</th>\n",
       "      <th>max. PAR (�mol/m�/s)</th>\n",
       "      <th>Tlog (degC)</th>\n",
       "      <th>OT</th>\n",
       "    </tr>\n",
       "    <tr>\n",
       "      <th>date</th>\n",
       "      <th></th>\n",
       "      <th></th>\n",
       "      <th></th>\n",
       "      <th></th>\n",
       "      <th></th>\n",
       "      <th></th>\n",
       "      <th></th>\n",
       "      <th></th>\n",
       "      <th></th>\n",
       "      <th></th>\n",
       "      <th></th>\n",
       "      <th></th>\n",
       "      <th></th>\n",
       "      <th></th>\n",
       "      <th></th>\n",
       "      <th></th>\n",
       "      <th></th>\n",
       "      <th></th>\n",
       "      <th></th>\n",
       "      <th></th>\n",
       "      <th></th>\n",
       "    </tr>\n",
       "  </thead>\n",
       "  <tbody>\n",
       "    <tr>\n",
       "      <th>2020-01-01 00:10:00</th>\n",
       "      <td>1008.89</td>\n",
       "      <td>0.71</td>\n",
       "      <td>273.18</td>\n",
       "      <td>-1.33</td>\n",
       "      <td>86.1</td>\n",
       "      <td>6.43</td>\n",
       "      <td>5.54</td>\n",
       "      <td>0.89</td>\n",
       "      <td>3.42</td>\n",
       "      <td>5.49</td>\n",
       "      <td>...</td>\n",
       "      <td>1.02</td>\n",
       "      <td>1.60</td>\n",
       "      <td>224.3</td>\n",
       "      <td>0.0</td>\n",
       "      <td>0.0</td>\n",
       "      <td>0.0</td>\n",
       "      <td>0.0</td>\n",
       "      <td>0.0</td>\n",
       "      <td>11.45</td>\n",
       "      <td>428.1</td>\n",
       "    </tr>\n",
       "    <tr>\n",
       "      <th>2020-01-01 00:20:00</th>\n",
       "      <td>1008.76</td>\n",
       "      <td>0.75</td>\n",
       "      <td>273.22</td>\n",
       "      <td>-1.44</td>\n",
       "      <td>85.2</td>\n",
       "      <td>6.45</td>\n",
       "      <td>5.49</td>\n",
       "      <td>0.95</td>\n",
       "      <td>3.39</td>\n",
       "      <td>5.45</td>\n",
       "      <td>...</td>\n",
       "      <td>0.43</td>\n",
       "      <td>0.84</td>\n",
       "      <td>206.8</td>\n",
       "      <td>0.0</td>\n",
       "      <td>0.0</td>\n",
       "      <td>0.0</td>\n",
       "      <td>0.0</td>\n",
       "      <td>0.0</td>\n",
       "      <td>11.51</td>\n",
       "      <td>428.0</td>\n",
       "    </tr>\n",
       "    <tr>\n",
       "      <th>2020-01-01 00:30:00</th>\n",
       "      <td>1008.66</td>\n",
       "      <td>0.73</td>\n",
       "      <td>273.21</td>\n",
       "      <td>-1.48</td>\n",
       "      <td>85.1</td>\n",
       "      <td>6.44</td>\n",
       "      <td>5.48</td>\n",
       "      <td>0.96</td>\n",
       "      <td>3.39</td>\n",
       "      <td>5.43</td>\n",
       "      <td>...</td>\n",
       "      <td>0.61</td>\n",
       "      <td>1.48</td>\n",
       "      <td>197.1</td>\n",
       "      <td>0.0</td>\n",
       "      <td>0.0</td>\n",
       "      <td>0.0</td>\n",
       "      <td>0.0</td>\n",
       "      <td>0.0</td>\n",
       "      <td>11.60</td>\n",
       "      <td>427.6</td>\n",
       "    </tr>\n",
       "    <tr>\n",
       "      <th>2020-01-01 00:40:00</th>\n",
       "      <td>1008.64</td>\n",
       "      <td>0.37</td>\n",
       "      <td>272.86</td>\n",
       "      <td>-1.64</td>\n",
       "      <td>86.3</td>\n",
       "      <td>6.27</td>\n",
       "      <td>5.41</td>\n",
       "      <td>0.86</td>\n",
       "      <td>3.35</td>\n",
       "      <td>5.37</td>\n",
       "      <td>...</td>\n",
       "      <td>1.11</td>\n",
       "      <td>1.48</td>\n",
       "      <td>206.4</td>\n",
       "      <td>0.0</td>\n",
       "      <td>0.0</td>\n",
       "      <td>0.0</td>\n",
       "      <td>0.0</td>\n",
       "      <td>0.0</td>\n",
       "      <td>11.70</td>\n",
       "      <td>430.0</td>\n",
       "    </tr>\n",
       "    <tr>\n",
       "      <th>2020-01-01 00:50:00</th>\n",
       "      <td>1008.61</td>\n",
       "      <td>0.33</td>\n",
       "      <td>272.82</td>\n",
       "      <td>-1.50</td>\n",
       "      <td>87.4</td>\n",
       "      <td>6.26</td>\n",
       "      <td>5.47</td>\n",
       "      <td>0.79</td>\n",
       "      <td>3.38</td>\n",
       "      <td>5.42</td>\n",
       "      <td>...</td>\n",
       "      <td>0.49</td>\n",
       "      <td>1.40</td>\n",
       "      <td>209.6</td>\n",
       "      <td>0.0</td>\n",
       "      <td>0.0</td>\n",
       "      <td>0.0</td>\n",
       "      <td>0.0</td>\n",
       "      <td>0.0</td>\n",
       "      <td>11.81</td>\n",
       "      <td>432.2</td>\n",
       "    </tr>\n",
       "    <tr>\n",
       "      <th>...</th>\n",
       "      <td>...</td>\n",
       "      <td>...</td>\n",
       "      <td>...</td>\n",
       "      <td>...</td>\n",
       "      <td>...</td>\n",
       "      <td>...</td>\n",
       "      <td>...</td>\n",
       "      <td>...</td>\n",
       "      <td>...</td>\n",
       "      <td>...</td>\n",
       "      <td>...</td>\n",
       "      <td>...</td>\n",
       "      <td>...</td>\n",
       "      <td>...</td>\n",
       "      <td>...</td>\n",
       "      <td>...</td>\n",
       "      <td>...</td>\n",
       "      <td>...</td>\n",
       "      <td>...</td>\n",
       "      <td>...</td>\n",
       "      <td>...</td>\n",
       "    </tr>\n",
       "    <tr>\n",
       "      <th>2020-12-31 23:20:00</th>\n",
       "      <td>978.32</td>\n",
       "      <td>2.28</td>\n",
       "      <td>277.16</td>\n",
       "      <td>-0.80</td>\n",
       "      <td>80.0</td>\n",
       "      <td>7.20</td>\n",
       "      <td>5.76</td>\n",
       "      <td>1.44</td>\n",
       "      <td>3.67</td>\n",
       "      <td>5.89</td>\n",
       "      <td>...</td>\n",
       "      <td>0.73</td>\n",
       "      <td>1.40</td>\n",
       "      <td>180.6</td>\n",
       "      <td>0.0</td>\n",
       "      <td>0.0</td>\n",
       "      <td>0.0</td>\n",
       "      <td>0.0</td>\n",
       "      <td>0.0</td>\n",
       "      <td>13.40</td>\n",
       "      <td>433.0</td>\n",
       "    </tr>\n",
       "    <tr>\n",
       "      <th>2020-12-31 23:30:00</th>\n",
       "      <td>978.30</td>\n",
       "      <td>2.13</td>\n",
       "      <td>277.01</td>\n",
       "      <td>-0.43</td>\n",
       "      <td>83.1</td>\n",
       "      <td>7.12</td>\n",
       "      <td>5.92</td>\n",
       "      <td>1.20</td>\n",
       "      <td>3.77</td>\n",
       "      <td>6.05</td>\n",
       "      <td>...</td>\n",
       "      <td>0.43</td>\n",
       "      <td>0.82</td>\n",
       "      <td>174.0</td>\n",
       "      <td>0.0</td>\n",
       "      <td>0.0</td>\n",
       "      <td>0.0</td>\n",
       "      <td>0.0</td>\n",
       "      <td>0.0</td>\n",
       "      <td>13.42</td>\n",
       "      <td>439.6</td>\n",
       "    </tr>\n",
       "    <tr>\n",
       "      <th>2020-12-31 23:40:00</th>\n",
       "      <td>978.26</td>\n",
       "      <td>1.99</td>\n",
       "      <td>276.88</td>\n",
       "      <td>-0.71</td>\n",
       "      <td>82.2</td>\n",
       "      <td>7.05</td>\n",
       "      <td>5.80</td>\n",
       "      <td>1.26</td>\n",
       "      <td>3.69</td>\n",
       "      <td>5.93</td>\n",
       "      <td>...</td>\n",
       "      <td>0.38</td>\n",
       "      <td>0.76</td>\n",
       "      <td>248.9</td>\n",
       "      <td>0.0</td>\n",
       "      <td>0.0</td>\n",
       "      <td>0.0</td>\n",
       "      <td>0.0</td>\n",
       "      <td>0.0</td>\n",
       "      <td>13.45</td>\n",
       "      <td>435.2</td>\n",
       "    </tr>\n",
       "    <tr>\n",
       "      <th>2020-12-31 23:50:00</th>\n",
       "      <td>978.26</td>\n",
       "      <td>2.07</td>\n",
       "      <td>276.95</td>\n",
       "      <td>-0.77</td>\n",
       "      <td>81.4</td>\n",
       "      <td>7.09</td>\n",
       "      <td>5.77</td>\n",
       "      <td>1.32</td>\n",
       "      <td>3.68</td>\n",
       "      <td>5.90</td>\n",
       "      <td>...</td>\n",
       "      <td>0.57</td>\n",
       "      <td>1.07</td>\n",
       "      <td>196.6</td>\n",
       "      <td>0.0</td>\n",
       "      <td>0.0</td>\n",
       "      <td>0.0</td>\n",
       "      <td>0.0</td>\n",
       "      <td>0.0</td>\n",
       "      <td>13.47</td>\n",
       "      <td>433.9</td>\n",
       "    </tr>\n",
       "    <tr>\n",
       "      <th>2021-01-01 00:00:00</th>\n",
       "      <td>978.24</td>\n",
       "      <td>2.01</td>\n",
       "      <td>276.89</td>\n",
       "      <td>-0.66</td>\n",
       "      <td>82.4</td>\n",
       "      <td>7.06</td>\n",
       "      <td>5.82</td>\n",
       "      <td>1.24</td>\n",
       "      <td>3.71</td>\n",
       "      <td>5.95</td>\n",
       "      <td>...</td>\n",
       "      <td>0.57</td>\n",
       "      <td>1.08</td>\n",
       "      <td>221.3</td>\n",
       "      <td>0.0</td>\n",
       "      <td>0.0</td>\n",
       "      <td>0.0</td>\n",
       "      <td>0.0</td>\n",
       "      <td>0.0</td>\n",
       "      <td>13.48</td>\n",
       "      <td>436.5</td>\n",
       "    </tr>\n",
       "  </tbody>\n",
       "</table>\n",
       "<p>52696 rows × 21 columns</p>\n",
       "</div>"
      ],
      "text/plain": [
       "                     p (mbar)  T (degC)  Tpot (K)  Tdew (degC)  rh (%)  \\\n",
       "date                                                                     \n",
       "2020-01-01 00:10:00   1008.89      0.71    273.18        -1.33    86.1   \n",
       "2020-01-01 00:20:00   1008.76      0.75    273.22        -1.44    85.2   \n",
       "2020-01-01 00:30:00   1008.66      0.73    273.21        -1.48    85.1   \n",
       "2020-01-01 00:40:00   1008.64      0.37    272.86        -1.64    86.3   \n",
       "2020-01-01 00:50:00   1008.61      0.33    272.82        -1.50    87.4   \n",
       "...                       ...       ...       ...          ...     ...   \n",
       "2020-12-31 23:20:00    978.32      2.28    277.16        -0.80    80.0   \n",
       "2020-12-31 23:30:00    978.30      2.13    277.01        -0.43    83.1   \n",
       "2020-12-31 23:40:00    978.26      1.99    276.88        -0.71    82.2   \n",
       "2020-12-31 23:50:00    978.26      2.07    276.95        -0.77    81.4   \n",
       "2021-01-01 00:00:00    978.24      2.01    276.89        -0.66    82.4   \n",
       "\n",
       "                     VPmax (mbar)  VPact (mbar)  VPdef (mbar)  sh (g/kg)  \\\n",
       "date                                                                       \n",
       "2020-01-01 00:10:00          6.43          5.54          0.89       3.42   \n",
       "2020-01-01 00:20:00          6.45          5.49          0.95       3.39   \n",
       "2020-01-01 00:30:00          6.44          5.48          0.96       3.39   \n",
       "2020-01-01 00:40:00          6.27          5.41          0.86       3.35   \n",
       "2020-01-01 00:50:00          6.26          5.47          0.79       3.38   \n",
       "...                           ...           ...           ...        ...   \n",
       "2020-12-31 23:20:00          7.20          5.76          1.44       3.67   \n",
       "2020-12-31 23:30:00          7.12          5.92          1.20       3.77   \n",
       "2020-12-31 23:40:00          7.05          5.80          1.26       3.69   \n",
       "2020-12-31 23:50:00          7.09          5.77          1.32       3.68   \n",
       "2021-01-01 00:00:00          7.06          5.82          1.24       3.71   \n",
       "\n",
       "                     H2OC (mmol/mol)  ...  wv (m/s)  max. wv (m/s)  wd (deg)  \\\n",
       "date                                  ...                                      \n",
       "2020-01-01 00:10:00             5.49  ...      1.02           1.60     224.3   \n",
       "2020-01-01 00:20:00             5.45  ...      0.43           0.84     206.8   \n",
       "2020-01-01 00:30:00             5.43  ...      0.61           1.48     197.1   \n",
       "2020-01-01 00:40:00             5.37  ...      1.11           1.48     206.4   \n",
       "2020-01-01 00:50:00             5.42  ...      0.49           1.40     209.6   \n",
       "...                              ...  ...       ...            ...       ...   \n",
       "2020-12-31 23:20:00             5.89  ...      0.73           1.40     180.6   \n",
       "2020-12-31 23:30:00             6.05  ...      0.43           0.82     174.0   \n",
       "2020-12-31 23:40:00             5.93  ...      0.38           0.76     248.9   \n",
       "2020-12-31 23:50:00             5.90  ...      0.57           1.07     196.6   \n",
       "2021-01-01 00:00:00             5.95  ...      0.57           1.08     221.3   \n",
       "\n",
       "                     rain (mm)  raining (s)  SWDR (W/m�)  PAR (�mol/m�/s)  \\\n",
       "date                                                                        \n",
       "2020-01-01 00:10:00        0.0          0.0          0.0              0.0   \n",
       "2020-01-01 00:20:00        0.0          0.0          0.0              0.0   \n",
       "2020-01-01 00:30:00        0.0          0.0          0.0              0.0   \n",
       "2020-01-01 00:40:00        0.0          0.0          0.0              0.0   \n",
       "2020-01-01 00:50:00        0.0          0.0          0.0              0.0   \n",
       "...                        ...          ...          ...              ...   \n",
       "2020-12-31 23:20:00        0.0          0.0          0.0              0.0   \n",
       "2020-12-31 23:30:00        0.0          0.0          0.0              0.0   \n",
       "2020-12-31 23:40:00        0.0          0.0          0.0              0.0   \n",
       "2020-12-31 23:50:00        0.0          0.0          0.0              0.0   \n",
       "2021-01-01 00:00:00        0.0          0.0          0.0              0.0   \n",
       "\n",
       "                     max. PAR (�mol/m�/s)  Tlog (degC)     OT  \n",
       "date                                                           \n",
       "2020-01-01 00:10:00                   0.0        11.45  428.1  \n",
       "2020-01-01 00:20:00                   0.0        11.51  428.0  \n",
       "2020-01-01 00:30:00                   0.0        11.60  427.6  \n",
       "2020-01-01 00:40:00                   0.0        11.70  430.0  \n",
       "2020-01-01 00:50:00                   0.0        11.81  432.2  \n",
       "...                                   ...          ...    ...  \n",
       "2020-12-31 23:20:00                   0.0        13.40  433.0  \n",
       "2020-12-31 23:30:00                   0.0        13.42  439.6  \n",
       "2020-12-31 23:40:00                   0.0        13.45  435.2  \n",
       "2020-12-31 23:50:00                   0.0        13.47  433.9  \n",
       "2021-01-01 00:00:00                   0.0        13.48  436.5  \n",
       "\n",
       "[52696 rows x 21 columns]"
      ]
     },
     "execution_count": 406,
     "metadata": {},
     "output_type": "execute_result"
    }
   ],
   "source": [
    "weather_ds"
   ]
  },
  {
   "cell_type": "code",
   "execution_count": 408,
   "id": "9608fdf8-c5de-4e65-8344-46b736ed5383",
   "metadata": {},
   "outputs": [
    {
     "name": "stdout",
     "output_type": "stream",
     "text": [
      "<class 'pandas.core.frame.DataFrame'>\n"
     ]
    }
   ],
   "source": [
    "print(type(weather_ds))"
   ]
  },
  {
   "cell_type": "code",
   "execution_count": 410,
   "id": "717f59f0-8ee8-4ab3-a68d-58531ac50cf9",
   "metadata": {},
   "outputs": [
    {
     "data": {
      "text/plain": [
       "p (mbar)                0.0\n",
       "T (degC)                0.0\n",
       "Tpot (K)                0.0\n",
       "Tdew (degC)             0.0\n",
       "rh (%)                  0.0\n",
       "VPmax (mbar)            0.0\n",
       "VPact (mbar)            0.0\n",
       "VPdef (mbar)            0.0\n",
       "sh (g/kg)               0.0\n",
       "H2OC (mmol/mol)         0.0\n",
       "rho (g/m**3)            0.0\n",
       "wv (m/s)                0.0\n",
       "max. wv (m/s)           0.0\n",
       "wd (deg)                0.0\n",
       "rain (mm)               0.0\n",
       "raining (s)             0.0\n",
       "SWDR (W/m�)             0.0\n",
       "PAR (�mol/m�/s)         0.0\n",
       "max. PAR (�mol/m�/s)    0.0\n",
       "Tlog (degC)             0.0\n",
       "OT                      0.0\n",
       "dtype: float64"
      ]
     },
     "execution_count": 410,
     "metadata": {},
     "output_type": "execute_result"
    }
   ],
   "source": [
    "#This shows us the number of null values in each colum but from what is shown, there are none\n",
    "weather_ds.apply(pd.isnull).sum()/weather_ds.shape[0]"
   ]
  },
  {
   "cell_type": "markdown",
   "id": "f7a458b2-1b4f-4258-96ed-d422421581b0",
   "metadata": {},
   "source": [
    "Because of this our dataset is already clean and thus we skip that step of data cleaning."
   ]
  },
  {
   "cell_type": "code",
   "execution_count": 413,
   "id": "374549c6-66a2-4b80-a182-f19488f249dd",
   "metadata": {},
   "outputs": [
    {
     "data": {
      "text/plain": [
       "p (mbar)                float64\n",
       "T (degC)                float64\n",
       "Tpot (K)                float64\n",
       "Tdew (degC)             float64\n",
       "rh (%)                  float64\n",
       "VPmax (mbar)            float64\n",
       "VPact (mbar)            float64\n",
       "VPdef (mbar)            float64\n",
       "sh (g/kg)               float64\n",
       "H2OC (mmol/mol)         float64\n",
       "rho (g/m**3)            float64\n",
       "wv (m/s)                float64\n",
       "max. wv (m/s)           float64\n",
       "wd (deg)                float64\n",
       "rain (mm)               float64\n",
       "raining (s)             float64\n",
       "SWDR (W/m�)             float64\n",
       "PAR (�mol/m�/s)         float64\n",
       "max. PAR (�mol/m�/s)    float64\n",
       "Tlog (degC)             float64\n",
       "OT                      float64\n",
       "dtype: object"
      ]
     },
     "execution_count": 413,
     "metadata": {},
     "output_type": "execute_result"
    }
   ],
   "source": [
    "#Visualising the datatype in column\n",
    "weather_ds.dtypes"
   ]
  },
  {
   "cell_type": "code",
   "execution_count": 415,
   "id": "045f1f00-d5c1-40d9-aad0-34c3642a1673",
   "metadata": {},
   "outputs": [
    {
     "data": {
      "text/plain": [
       "DatetimeIndex(['2020-01-01 00:10:00', '2020-01-01 00:20:00',\n",
       "               '2020-01-01 00:30:00', '2020-01-01 00:40:00',\n",
       "               '2020-01-01 00:50:00', '2020-01-01 01:00:00',\n",
       "               '2020-01-01 01:10:00', '2020-01-01 01:20:00',\n",
       "               '2020-01-01 01:30:00', '2020-01-01 01:40:00',\n",
       "               ...\n",
       "               '2020-12-31 22:30:00', '2020-12-31 22:40:00',\n",
       "               '2020-12-31 22:50:00', '2020-12-31 23:00:00',\n",
       "               '2020-12-31 23:10:00', '2020-12-31 23:20:00',\n",
       "               '2020-12-31 23:30:00', '2020-12-31 23:40:00',\n",
       "               '2020-12-31 23:50:00', '2021-01-01 00:00:00'],\n",
       "              dtype='datetime64[ns]', name='date', length=52696, freq=None)"
      ]
     },
     "execution_count": 415,
     "metadata": {},
     "output_type": "execute_result"
    }
   ],
   "source": [
    "weather_ds.index"
   ]
  },
  {
   "cell_type": "code",
   "execution_count": 417,
   "id": "bd0da63a-25e8-46ca-a4d5-9b4fc4ffcb17",
   "metadata": {},
   "outputs": [
    {
     "data": {
      "text/plain": [
       "p (mbar)                0\n",
       "T (degC)                0\n",
       "Tpot (K)                0\n",
       "Tdew (degC)             0\n",
       "rh (%)                  0\n",
       "VPmax (mbar)            0\n",
       "VPact (mbar)            0\n",
       "VPdef (mbar)            0\n",
       "sh (g/kg)               0\n",
       "H2OC (mmol/mol)         0\n",
       "rho (g/m**3)            0\n",
       "wv (m/s)                0\n",
       "max. wv (m/s)           0\n",
       "wd (deg)                0\n",
       "rain (mm)               0\n",
       "raining (s)             0\n",
       "SWDR (W/m�)             0\n",
       "PAR (�mol/m�/s)         0\n",
       "max. PAR (�mol/m�/s)    0\n",
       "Tlog (degC)             0\n",
       "OT                      0\n",
       "dtype: int64"
      ]
     },
     "execution_count": 417,
     "metadata": {},
     "output_type": "execute_result"
    }
   ],
   "source": [
    "weather_ds.apply(lambda x: (x == 9999).sum())"
   ]
  },
  {
   "cell_type": "code",
   "execution_count": 419,
   "id": "845c59db-98f1-40bd-b1bc-ca83d07d6106",
   "metadata": {},
   "outputs": [
    {
     "data": {
      "text/plain": [
       "<Axes: xlabel='date'>"
      ]
     },
     "execution_count": 419,
     "metadata": {},
     "output_type": "execute_result"
    },
    {
     "data": {
      "image/png": "[encoded data removed]",
      "text/plain": [
       "<Figure size 640x480 with 1 Axes>"
      ]
     },
     "metadata": {},
     "output_type": "display_data"
    }
   ],
   "source": [
    "#Analysing the weather data (between the highest and lowest recorded temperature in a day)\n",
    "weather_ds[[\"VPmax (mbar)\", \"VPact (mbar)\"]].plot()"
   ]
  },
  {
   "cell_type": "code",
   "execution_count": 421,
   "id": "d2fc3a48-8471-4bc8-b67b-57ec7dbb409e",
   "metadata": {},
   "outputs": [
    {
     "data": {
      "text/plain": [
       "<Axes: xlabel='date'>"
      ]
     },
     "execution_count": 421,
     "metadata": {},
     "output_type": "execute_result"
    },
    {
     "data": {
      "image/png": "[encoded data removed]",
      "text/plain": [
       "<Figure size 640x480 with 1 Axes>"
      ]
     },
     "metadata": {},
     "output_type": "display_data"
    }
   ],
   "source": [
    "#This shows the amount of rainfall (in mm) per day\n",
    "weather_ds[\"rain (mm)\"].plot()"
   ]
  },
  {
   "cell_type": "code",
   "execution_count": 423,
   "id": "22a2414e-5bf8-448a-a71d-39c35a1100b0",
   "metadata": {},
   "outputs": [
    {
     "name": "stdout",
     "output_type": "stream",
     "text": [
      "<class 'pandas.core.frame.DataFrame'>\n"
     ]
    }
   ],
   "source": [
    "print(type(weather_ds))"
   ]
  },
  {
   "cell_type": "code",
   "execution_count": 425,
   "id": "05aff26c-47d8-4038-a56c-7f4119f01bbd",
   "metadata": {},
   "outputs": [],
   "source": [
    "predictors = [\"rain (mm)\",\"VPmax (mbar)\", \"VPact (mbar)\"]"
   ]
  },
  {
   "cell_type": "code",
   "execution_count": 427,
   "id": "4179e594-a51d-4f6a-a083-197df7134e5c",
   "metadata": {},
   "outputs": [],
   "source": [
    "# Define features (X) and target (y)\n",
    "X = weather_ds.drop(columns=predictors, errors='ignore')  # Drop target columns to get features\n",
    "y = weather_ds[predictors]  # Select target columns only"
   ]
  },
  {
   "cell_type": "code",
   "execution_count": 429,
   "id": "d145d25b-50dc-4a58-a7a9-3cf378303da8",
   "metadata": {},
   "outputs": [],
   "source": [
    "X_train, X_test, y_train, y_test = train_test_split(X, y, test_size=0.2, random_state=42)"
   ]
  },
  {
   "cell_type": "code",
   "execution_count": 431,
   "id": "9b76fa78-3a43-4dc4-ad2f-fa9003f81810",
   "metadata": {},
   "outputs": [
    {
     "data": {
      "text/html": [
       "<style>#sk-container-id-1 {color: black;background-color: white;}#sk-container-id-1 pre{padding: 0;}#sk-container-id-1 div.sk-toggleable {background-color: white;}#sk-container-id-1 label.sk-toggleable__label {cursor: pointer;display: block;width: 100%;margin-bottom: 0;padding: 0.3em;box-sizing: border-box;text-align: center;}#sk-container-id-1 label.sk-toggleable__label-arrow:before {content: \"▸\";float: left;margin-right: 0.25em;color: #696969;}#sk-container-id-1 label.sk-toggleable__label-arrow:hover:before {color: black;}#sk-container-id-1 div.sk-estimator:hover label.sk-toggleable__label-arrow:before {color: black;}#sk-container-id-1 div.sk-toggleable__content {max-height: 0;max-width: 0;overflow: hidden;text-align: left;background-color: #f0f8ff;}#sk-container-id-1 div.sk-toggleable__content pre {margin: 0.2em;color: black;border-radius: 0.25em;background-color: #f0f8ff;}#sk-container-id-1 input.sk-toggleable__control:checked~div.sk-toggleable__content {max-height: 200px;max-width: 100%;overflow: auto;}#sk-container-id-1 input.sk-toggleable__control:checked~label.sk-toggleable__label-arrow:before {content: \"▾\";}#sk-container-id-1 div.sk-estimator input.sk-toggleable__control:checked~label.sk-toggleable__label {background-color: #d4ebff;}#sk-container-id-1 div.sk-label input.sk-toggleable__control:checked~label.sk-toggleable__label {background-color: #d4ebff;}#sk-container-id-1 input.sk-hidden--visually {border: 0;clip: rect(1px 1px 1px 1px);clip: rect(1px, 1px, 1px, 1px);height: 1px;margin: -1px;overflow: hidden;padding: 0;position: absolute;width: 1px;}#sk-container-id-1 div.sk-estimator {font-family: monospace;background-color: #f0f8ff;border: 1px dotted black;border-radius: 0.25em;box-sizing: border-box;margin-bottom: 0.5em;}#sk-container-id-1 div.sk-estimator:hover {background-color: #d4ebff;}#sk-container-id-1 div.sk-parallel-item::after {content: \"\";width: 100%;border-bottom: 1px solid gray;flex-grow: 1;}#sk-container-id-1 div.sk-label:hover label.sk-toggleable__label {background-color: #d4ebff;}#sk-container-id-1 div.sk-serial::before {content: \"\";position: absolute;border-left: 1px solid gray;box-sizing: border-box;top: 0;bottom: 0;left: 50%;z-index: 0;}#sk-container-id-1 div.sk-serial {display: flex;flex-direction: column;align-items: center;background-color: white;padding-right: 0.2em;padding-left: 0.2em;position: relative;}#sk-container-id-1 div.sk-item {position: relative;z-index: 1;}#sk-container-id-1 div.sk-parallel {display: flex;align-items: stretch;justify-content: center;background-color: white;position: relative;}#sk-container-id-1 div.sk-item::before, #sk-container-id-1 div.sk-parallel-item::before {content: \"\";position: absolute;border-left: 1px solid gray;box-sizing: border-box;top: 0;bottom: 0;left: 50%;z-index: -1;}#sk-container-id-1 div.sk-parallel-item {display: flex;flex-direction: column;z-index: 1;position: relative;background-color: white;}#sk-container-id-1 div.sk-parallel-item:first-child::after {align-self: flex-end;width: 50%;}#sk-container-id-1 div.sk-parallel-item:last-child::after {align-self: flex-start;width: 50%;}#sk-container-id-1 div.sk-parallel-item:only-child::after {width: 0;}#sk-container-id-1 div.sk-dashed-wrapped {border: 1px dashed gray;margin: 0 0.4em 0.5em 0.4em;box-sizing: border-box;padding-bottom: 0.4em;background-color: white;}#sk-container-id-1 div.sk-label label {font-family: monospace;font-weight: bold;display: inline-block;line-height: 1.2em;}#sk-container-id-1 div.sk-label-container {text-align: center;}#sk-container-id-1 div.sk-container {/* jupyter's `normalize.less` sets `[hidden] { display: none; }` but bootstrap.min.css set `[hidden] { display: none !important; }` so we also need the `!important` here to be able to override the default hidden behavior on the sphinx rendered scikit-learn.org. See: https://github.com/scikit-learn/scikit-learn/issues/21755 */display: inline-block !important;position: relative;}#sk-container-id-1 div.sk-text-repr-fallback {display: none;}</style><div id=\"sk-container-id-1\" class=\"sk-top-container\"><div class=\"sk-text-repr-fallback\"><pre>LinearRegression()</pre><b>In a Jupyter environment, please rerun this cell to show the HTML representation or trust the notebook. <br />On GitHub, the HTML representation is unable to render, please try loading this page with nbviewer.org.</b></div><div class=\"sk-container\" hidden><div class=\"sk-item\"><div class=\"sk-estimator sk-toggleable\"><input class=\"sk-toggleable__control sk-hidden--visually\" id=\"sk-estimator-id-1\" type=\"checkbox\" checked><label for=\"sk-estimator-id-1\" class=\"sk-toggleable__label sk-toggleable__label-arrow\">LinearRegression</label><div class=\"sk-toggleable__content\"><pre>LinearRegression()</pre></div></div></div></div></div>"
      ],
      "text/plain": [
       "LinearRegression()"
      ]
     },
     "execution_count": 431,
     "metadata": {},
     "output_type": "execute_result"
    }
   ],
   "source": [
    "#Initialize and fit the Linear Regression model\n",
    "model = LinearRegression()\n",
    "model.fit(X_train, y_train)"
   ]
  },
  {
   "cell_type": "code",
   "execution_count": 433,
   "id": "c8e037ce-d2f9-4c6b-96d0-2e4a03265ff5",
   "metadata": {},
   "outputs": [],
   "source": [
    "# Make predictions\n",
    "y_pred = model.predict(X_test)"
   ]
  },
  {
   "cell_type": "code",
   "execution_count": 435,
   "id": "14ab0135-7e0f-44ce-89dd-9c6d8ed4014f",
   "metadata": {},
   "outputs": [
    {
     "name": "stdout",
     "output_type": "stream",
     "text": [
      "Mean Absolute Error (MAE): 0.014660716449411004\n",
      "Mean Squared Error (MSE): 0.0027690363457815747\n",
      "R-squared (R²): 0.7402848048885247\n"
     ]
    }
   ],
   "source": [
    "# Evaluate the model using MAE, MSE, and R²\n",
    "mae = mean_absolute_error(y_test, y_pred)  # Mean Absolute Error\n",
    "mse = mean_squared_error(y_test, y_pred)  # Mean Squared Error\n",
    "r2 = r2_score(y_test, y_pred)  # R-squared score\n",
    "\n",
    "# Print evaluation metrics\n",
    "print(f\"Mean Absolute Error (MAE): {mae}\")\n",
    "print(f\"Mean Squared Error (MSE): {mse}\")\n",
    "print(f\"R-squared (R²): {r2}\")"
   ]
  },
  {
   "cell_type": "code",
   "execution_count": 437,
   "id": "465198e4-5dcc-4e52-8403-8fc11b52ecee",
   "metadata": {},
   "outputs": [
    {
     "name": "stdout",
     "output_type": "stream",
     "text": [
      "\n",
      "Model coefficients:\n",
      "[[ 1.03283878e-03 -3.83511753e-02  4.56479259e-02 -3.24898709e-03\n",
      "   2.97322561e-04 -3.04408530e-03  2.63295831e-01 -1.62767649e-01\n",
      "   2.11349958e-03  2.33153962e-05  3.65149994e-03  3.00440774e-05\n",
      "   4.51451972e-04  3.46076932e-04 -1.87970555e-04 -1.33463151e-06\n",
      "   5.85421631e-03  7.43861725e-07]\n",
      " [-5.13328018e-02  8.74782486e-01 -9.48015134e-01  1.06780330e-02\n",
      "  -1.16072884e-03  1.00969433e+00  5.84658573e-01  6.17400332e-01\n",
      "  -1.42914254e-02 -2.02475403e-06  7.68134939e-04  1.13351696e-05\n",
      "  -9.84995648e-06 -1.95371989e-05  7.65492502e-06 -1.07447641e-07\n",
      "   6.53441817e-04  1.81158529e-06]\n",
      " [-5.10546477e-02  8.72782730e-01 -9.46735840e-01  1.07487633e-02\n",
      "  -1.16352097e-03  9.80459013e-03  5.95870528e-01  6.10309112e-01\n",
      "  -1.44323521e-02 -2.05501390e-06  7.47148963e-04  1.17129296e-05\n",
      "  -9.80173554e-06 -1.64431399e-05  6.07725510e-06 -6.16790404e-08\n",
      "   6.55255606e-04  1.83535390e-06]]\n"
     ]
    }
   ],
   "source": [
    "# Optionally, print the model coefficients\n",
    "print(\"\\nModel coefficients:\")\n",
    "print(model.coef_)"
   ]
  }
 ],
 "metadata": {
  "kernelspec": {
   "display_name": "Python 3 (ipykernel)",
   "language": "python",
   "name": "python3"
  },
  "language_info": {
   "codemirror_mode": {
    "name": "ipython",
    "version": 3
   },
   "file_extension": ".py",
   "mimetype": "text/x-python",
   "name": "python",
   "nbconvert_exporter": "python",
   "pygments_lexer": "ipython3",
   "version": "3.11.7"
  }
 },
 "nbformat": 4,
 "nbformat_minor": 5
}
